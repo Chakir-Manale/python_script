{
 "cells": [
  {
   "cell_type": "code",
   "execution_count": 2,
   "metadata": {},
   "outputs": [
    {
     "name": "stdout",
     "output_type": "stream",
     "text": [
      "Importations de biens et de services ($ US courants)\n",
      "en cours ..\n",
      "Exportations de biens et de services ($ US constants de 2010)\n",
      "en cours ..\n",
      "Importations de biens et de services (% du PIB)en cours ..\n",
      "\n",
      "------------ le processus est ternimé -------------\n",
      "\n",
      "appuyez sur une touche pour quitter\n"
     ]
    },
    {
     "data": {
      "text/plain": [
       "''"
      ]
     },
     "execution_count": 2,
     "metadata": {},
     "output_type": "execute_result"
    }
   ],
   "source": [
    "import pandas as pd\n",
    "import openpyxl as xl\n",
    "import numpy as np\n",
    "from openpyxl import load_workbook\n",
    "\n",
    "countries_file = open(\"inputs\\\\countries_code.txt\",\"r\")\n",
    "countries = countries_file.readlines() \n",
    "\n",
    "cible_file_name = \"Matrice_2ème problématique.xlsx\"\n",
    "wb = load_workbook(filename = cible_file_name)\n",
    "sheet = wb.active \n",
    "\n",
    "source_file = open(\"inputs\\\\liste_indicateurs.txt\",\"r\")\n",
    "ligne_indicateurs = source_file.readlines() \n",
    "\n",
    "column_index = 4;\n",
    "for ligne in ligne_indicateurs :\n",
    "    indicateur = ligne.split(\":\")\n",
    "    print(indicateur[1] +\"en cours ..\")\n",
    "    source_file_name =\"indicateurs\\\\\"+ indicateur[0]+\".xls\"\n",
    "    excel_data = pd.read_excel(source_file_name, sheet_name='Data',skiprows=3)\n",
    "    country_start = 4\n",
    "    for country in countries:\n",
    "        df_country = excel_data[excel_data[\"Country Code\"] == country.replace('\\n','')]\n",
    "        df_country.replace(np.nan, 0)\n",
    "        index_annee = 34\n",
    "        sheet.cell(row = 3 , column = column_index).value = indicateur[1]\n",
    "        for row in range(country_start, country_start+29 ):\n",
    "            sheet.cell(row = row , column = column_index).value = df_country.iat[0, index_annee]\n",
    "            index_annee+=1\n",
    "        country_start+=29\n",
    "    column_index+=1\n",
    "\n",
    "wb.save(\"Matrice_2ème problématique.xlsx\")\n",
    "print(\"\\n------------ le processus est ternimé -------------\\n\")\n",
    "countries_file.close()\n",
    "source_file.close() \n",
    "input(\"appuyez sur une touche pour quitter\")"
   ]
  }
 ],
 "metadata": {
  "kernelspec": {
   "display_name": "Python 3",
   "language": "python",
   "name": "python3"
  },
  "language_info": {
   "codemirror_mode": {
    "name": "ipython",
    "version": 3
   },
   "file_extension": ".py",
   "mimetype": "text/x-python",
   "name": "python",
   "nbconvert_exporter": "python",
   "pygments_lexer": "ipython3",
   "version": "3.7.4"
  }
 },
 "nbformat": 4,
 "nbformat_minor": 2
}
